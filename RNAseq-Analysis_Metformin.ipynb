{
 "cells": [
  {
   "cell_type": "markdown",
   "metadata": {},
   "source": [
    "# Transcriptomics data analysis"
   ]
  },
  {
   "cell_type": "markdown",
   "metadata": {},
   "source": [
    "### Loading packages\n",
    "Required packages for downstream analysis"
   ]
  },
  {
   "cell_type": "code",
   "execution_count": 1,
   "metadata": {},
   "outputs": [],
   "source": [
    "inst <- suppressMessages(lapply(c(\"DESeq2\",\n",
    "                                  \"ggplot2\",\n",
    "                                  \"pheatmap\",\n",
    "                                  \"RColorBrewer\",\n",
    "                                  \"vidger\",\n",
    "                                  \"EnhancedVolcano\",\n",
    "                                  \"gplots\",\n",
    "                                  \"org.Mm.eg.db\",\n",
    "                                  \"clusterProfiler\"\n",
    "                                  \"sigaR\"\n",
    "                                  \"huge\"\n",
    "                                  \"rags2ridges\"\n",
    "                                  \"VennDiagram\"\n",
    "                                  \"readxl\",\n",
    "                                  \"plyr\",\n",
    "                                  \"UpSetR\",\n",
    "                                  \"sva\"), \n",
    "                                library,\n",
    "                                character.only = TRUE)\n",
    ")"
   ]
  },
  {
   "cell_type": "markdown",
   "metadata": {},
   "source": [
    "### Set the global variables"
   ]
  },
  {
   "cell_type": "markdown",
   "metadata": {},
   "source": [
    "Set whether anndata objects are recomputed or loaded from cache."
   ]
  },
  {
   "cell_type": "code",
   "execution_count": 30,
   "metadata": {},
   "outputs": [],
   "source": [
    "bool_recomp = FALSE"
   ]
  },
  {
   "cell_type": "markdown",
   "metadata": {},
   "source": [
    "Set whether to produce plots, set to False for test runs."
   ]
  },
  {
   "cell_type": "code",
   "execution_count": 31,
   "metadata": {},
   "outputs": [],
   "source": [
    "bool_plot = FALSE"
   ]
  },
  {
   "cell_type": "markdown",
   "metadata": {},
   "source": [
    "### Load the data"
   ]
  },
  {
   "cell_type": "code",
   "execution_count": 2,
   "metadata": {},
   "outputs": [],
   "source": [
    "setwd('/Users/viktorian.miok/Documents/consultation/ChunXia/Resequencing/data')"
   ]
  },
  {
   "cell_type": "code",
   "execution_count": 3,
   "metadata": {},
   "outputs": [],
   "source": [
    "a1 <- read.csv(file=\"../data/A-1.gene.fpkm.csv\", \n",
    "               header=TRUE, \n",
    "               sep=\"\\t\"\n",
    ")\n",
    "a1 = a1[,c(4,6)]\n",
    "a1[,2] = as.character(a1[,2])\n",
    "colnames(a1) = c(\"A_1\",\"GeneName\")\n",
    "a1 = a1[!is.na(a1[,2]),]\n",
    "\n",
    "a2 = read.csv(file=\"../data/A-2.gene.fpkm.csv\", \n",
    "              header=TRUE, \n",
    "              sep=\"\\t\"\n",
    ")\n",
    "a2 = a2[,c(4,6)]\n",
    "a2[,2] = as.character(a2[,2])\n",
    "colnames(a2) = c(\"A_2\",\"GeneName\")\n",
    "a2 = a2[!is.na(a2[,2]),]\n",
    "\n",
    "a3 = read.csv(file=\"../data/A-3.gene.fpkm.csv\",\n",
    "              header=TRUE, \n",
    "              sep=\"\\t\"\n",
    ")\n",
    "a3 = a3[,c(4,6)]\n",
    "a3[,2] = as.character(a3[,2])\n",
    "colnames(a3) = c(\"A_3\",\"GeneName\")\n",
    "a3 = a3[!is.na(a3[,2]),]"
   ]
  },
  {
   "cell_type": "code",
   "execution_count": 4,
   "metadata": {},
   "outputs": [],
   "source": [
    "b1 <- read.csv(file=\"../data/B-1.gene.fpkm.csv\", \n",
    "               header=TRUE,\n",
    "               sep=\"\\t\"\n",
    ")\n",
    "b1 = b1[,c(4,6)]\n",
    "b1[,2] = as.character(b1[,2])\n",
    "colnames(b1) = c(\"B_1\",\"GeneName\")\n",
    "b1 = b1[!is.na(b1[,2]),]\n",
    "\n",
    "b2 <- read.csv(file=\"../data/B-2.gene.fpkm.csv\",\n",
    "               header=TRUE,\n",
    "               sep=\"\\t\"\n",
    ")\n",
    "b2 = b2[,c(4,6)]\n",
    "b2[,2] = as.character(b2[,2])\n",
    "colnames(b2) = c(\"B_2\",\"GeneName\")\n",
    "b2 = b2[!is.na(b2[,2]),]\n",
    "\n",
    "b3 <- read.csv(file=\"../data/B-3.gene.fpkm.csv\",\n",
    "               header=TRUE,\n",
    "               sep=\"\\t\"\n",
    ")\n",
    "b3 = b3[,c(4,6)]\n",
    "b3[,2] = as.character(b3[,2])\n",
    "colnames(b3) = c(\"B_3\",\"GeneName\")\n",
    "b3 = b3[!is.na(b3[,2]),]"
   ]
  },
  {
   "cell_type": "code",
   "execution_count": 5,
   "metadata": {},
   "outputs": [],
   "source": [
    "c1 <- read.csv(file=\"../data/C-1.gene.fpkm.csv\",\n",
    "               header=TRUE, \n",
    "               sep=\"\\t\"\n",
    ")\n",
    "c1 = c1[,c(4,6)]\n",
    "c1[,2] = as.character(c1[,2])\n",
    "colnames(c1) = c(\"C_1\",\"GeneName\")\n",
    "c1 = c1[!is.na(c1[,2]),]\n",
    "\n",
    "c2 <- read.csv(file=\"../data/C-2.gene.fpkm.csv\",\n",
    "               header=TRUE,\n",
    "               sep=\"\\t\"\n",
    ")\n",
    "c2 = c2[,c(4,6)]\n",
    "c2[,2] = as.character(c2[,2])\n",
    "colnames(c2) = c(\"C_2\",\"GeneName\")\n",
    "c2 = c2[!is.na(c2[,2]),]\n",
    "\n",
    "c3 <- read.csv(file=\"../data/C-3.gene.fpkm.csv\", \n",
    "               header=TRUE,\n",
    "               sep=\"\\t\"\n",
    ")\n",
    "c3 = c3[,c(4,6)]\n",
    "c3[,2] = as.character(c3[,2])\n",
    "colnames(c3) = c(\"C_3\",\"GeneName\")\n",
    "c3 = c3[!is.na(c3[,2]),]"
   ]
  },
  {
   "cell_type": "code",
   "execution_count": 6,
   "metadata": {},
   "outputs": [],
   "source": [
    "d1 <- read.csv(file=\"../data/D-1.gene.fpkm.csv\",\n",
    "               header=TRUE,\n",
    "               sep=\"\\t\"\n",
    ")\n",
    "d1 = d1[,c(4,6)]\n",
    "d1[,2] = as.character(d1[,2])\n",
    "colnames(d1) = c(\"D_1\",\"GeneName\")\n",
    "d1 = d1[!is.na(d1[,2]),]\n",
    "\n",
    "d2 <- read.csv(file=\"../data/D-2.gene.fpkm.csv\",\n",
    "               header=TRUE,\n",
    "               sep=\"\\t\"\n",
    ")\n",
    "d2 = d2[,c(4,6)]\n",
    "d2[,2] = as.character(d2[,2])\n",
    "colnames(d2) = c(\"D_2\",\"GeneName\")\n",
    "d2 = d2[!is.na(d2[,2]),]\n",
    "\n",
    "d3 <- read.csv(file=\"../data/D-3.gene.fpkm.csv\",\n",
    "               header=TRUE, \n",
    "               sep=\"\\t\"\n",
    ")\n",
    "d3 = d3[,c(4,6)]\n",
    "d3[,2] = as.character(d3[,2])\n",
    "colnames(d3) = c(\"D_3\",\"GeneName\")\n",
    "d3 = d3[!is.na(d3[,2]),]"
   ]
  },
  {
   "cell_type": "code",
   "execution_count": 7,
   "metadata": {},
   "outputs": [],
   "source": [
    "e1 <- read.csv(file=\"../data/E-1.gene.fpkm.csv\",\n",
    "               header=TRUE,\n",
    "               sep=\"\\t\"\n",
    ")\n",
    "e1 = e1[,c(4,6)]\n",
    "e1[,2] = as.character(e1[,2])\n",
    "colnames(e1) = c(\"E_1\",\"GeneName\")\n",
    "e1 = e1[!is.na(e1[,2]),]\n",
    "\n",
    "e2 <- read.csv(file=\"../data/E-2.gene.fpkm.csv\",\n",
    "               header=TRUE,\n",
    "               sep=\"\\t\"\n",
    ")\n",
    "e2 = e2[,c(4,6)]\n",
    "e2[,2] = as.character(e2[,2])\n",
    "colnames(e2) = c(\"E_2\",\"GeneName\")\n",
    "e2 = e2[!is.na(e2[,2]),]\n",
    "\n",
    "e3 <- read.csv(file=\"../data/E-3.gene.fpkm.csv\", \n",
    "               header=TRUE, \n",
    "               sep=\"\\t\"\n",
    ")\n",
    "e3 = e3[,c(4,6)]\n",
    "e3[,2] = as.character(e3[,2])\n",
    "colnames(e3) = c(\"E_3\",\"GeneName\")\n",
    "e3 = e3[!is.na(e3[,2]),]"
   ]
  },
  {
   "cell_type": "code",
   "execution_count": 8,
   "metadata": {},
   "outputs": [],
   "source": [
    "f1 <- read.csv(file=\"../data/F-1.gene.fpkm.csv\",\n",
    "               header=TRUE,\n",
    "               sep=\"\\t\"\n",
    ")\n",
    "f1 = f1[,c(4,6)]\n",
    "f1[,2] = as.character(f1[,2])\n",
    "colnames(f1) = c(\"F_1\",\"GeneName\")\n",
    "f1 = f1[!is.na(f1[,2]),]\n",
    "\n",
    "f2 <- read.csv(file=\"../data/F-2.gene.fpkm.csv\",\n",
    "               header=TRUE,\n",
    "               sep=\"\\t\"\n",
    ")\n",
    "f2 = f2[,c(4,6)]\n",
    "f2[,2] = as.character(f2[,2])\n",
    "colnames(f2) = c(\"F_2\",\"GeneName\")\n",
    "f2 = f2[!is.na(f2[,2]),]\n",
    "\n",
    "f3 <- read.csv(file=\"../data/F-3.gene.fpkm.csv\",\n",
    "               header=TRUE,\n",
    "               sep=\"\\t\"\n",
    ")\n",
    "f3 = f3[,c(4,6)]\n",
    "f3[,2] = as.character(f3[,2])\n",
    "colnames(f3) = c(\"F_3\",\"GeneName\")\n",
    "f3 = f3[!is.na(f3[,2]),]"
   ]
  },
  {
   "cell_type": "code",
   "execution_count": 9,
   "metadata": {},
   "outputs": [],
   "source": [
    "g1 <- read.csv(file=\"../data/G-1.gene.fpkm.csv\",\n",
    "               header=TRUE, \n",
    "               sep=\"\\t\"\n",
    ")\n",
    "g1 = g1[,c(4,6)]\n",
    "g1[,2] = as.character(g1[,2])\n",
    "colnames(g1) = c(\"G_1\",\"GeneName\")\n",
    "g1 = g1[!is.na(g1[,2]),]\n",
    "\n",
    "g2 <- read.csv(file=\"../data/G-2.gene.fpkm.csv\",\n",
    "               header=TRUE,\n",
    "               sep=\"\\t\"\n",
    ")\n",
    "g2 = g2[,c(4,6)]\n",
    "g2[,2] = as.character(g2[,2])\n",
    "colnames(g2) = c(\"G_2\",\"GeneName\")\n",
    "g2 = g2[!is.na(g2[,2]),]\n",
    "\n",
    "g3 <- read.csv(file=\"../data/G-3.gene.fpkm.csv\", \n",
    "               header=TRUE, \n",
    "               sep=\"\\t\"\n",
    ")\n",
    "g3 = g3[,c(4,6)]\n",
    "g3[,2] = as.character(g3[,2])\n",
    "colnames(g3) = c(\"G_3\",\"GeneName\")\n",
    "g3 = g3[!is.na(g3[,2]),]"
   ]
  },
  {
   "cell_type": "code",
   "execution_count": 10,
   "metadata": {},
   "outputs": [],
   "source": [
    "h1 <- read.csv(file=\"../data/H-1.gene.fpkm.csv\",\n",
    "               header=TRUE,\n",
    "               sep=\"\\t\"\n",
    ")\n",
    "h1 = h1[,c(4,6)]\n",
    "h1[,2] = as.character(h1[,2])\n",
    "colnames(h1) = c(\"H_1\",\"GeneName\")\n",
    "h1 = h1[!is.na(h1[,2]),]\n",
    "\n",
    "h2 <- read.csv(file=\"../data/H-2.gene.fpkm.csv\",\n",
    "               header=TRUE,\n",
    "               sep=\"\\t\"\n",
    ")\n",
    "h2 = h2[,c(4,6)]\n",
    "h2[,2] = as.character(h2[,2])\n",
    "colnames(h2) = c(\"H_2\",\"GeneName\")\n",
    "h2 = h2[!is.na(h2[,2]),]\n",
    "\n",
    "h3 <- read.csv(file=\"../data/H-3.gene.fpkm.csv\",\n",
    "               header=TRUE,\n",
    "               sep=\"\\t\"\n",
    ")\n",
    "h3 = h3[,c(4,6)]\n",
    "h3[,2] = as.character(h3[,2])\n",
    "colnames(h3) = c(\"H_3\",\"GeneName\")\n",
    "h3 = h3[!is.na(h3[,2]),]"
   ]
  },
  {
   "cell_type": "code",
   "execution_count": 11,
   "metadata": {},
   "outputs": [],
   "source": [
    "all <- join_all(list(a1,a2,a3,b1,b2,b3,c1,c2,c3,d1,d2,d3,e1,e2,e3,f1,f2,f3,g1,g2,g3,h1,h2,h3),\n",
    "                by='GeneName',\n",
    "                type='right'\n",
    ")"
   ]
  },
  {
   "cell_type": "code",
   "execution_count": 12,
   "metadata": {},
   "outputs": [],
   "source": [
    "row.has.na <- apply(all, \n",
    "                    1, \n",
    "                    function(x){any(is.na(x))}\n",
    ")"
   ]
  },
  {
   "cell_type": "code",
   "execution_count": 13,
   "metadata": {},
   "outputs": [],
   "source": [
    "dat = all[!row.has.na,]\n",
    "rownames(dat) = dat[,1]\n",
    "dat = dat[,-1]\n",
    "dat = round(dat,0)"
   ]
  },
  {
   "cell_type": "code",
   "execution_count": 14,
   "metadata": {},
   "outputs": [],
   "source": [
    "datChow = dat[,c(1:3,7:9,13:15,19:21)]\n",
    "datHFD = dat[,c(4:6,10:12,16:18,22:24)]"
   ]
  },
  {
   "cell_type": "code",
   "execution_count": 17,
   "metadata": {},
   "outputs": [
    {
     "name": "stderr",
     "output_type": "stream",
     "text": [
      "converting counts to integer mode\n",
      "\n",
      "Warning message in DESeqDataSet(se, design = design, ignoreRank):\n",
      "“some variables in design formula are characters, converting to factors”\n"
     ]
    }
   ],
   "source": [
    "id = colnames(datChow)\n",
    "conditionF = c(rep(\"control\",3), rep(\"treated\",3), rep(\"control\",6))\n",
    "metaData = data.frame(id, conditionF)\n",
    "ddsChowF <- DESeqDataSetFromMatrix(countData=datChow,\n",
    "                                   colData=metaData,\n",
    "                                   design=~ conditionF\n",
    ")\n",
    "featureData = data.frame(gene=rownames(ddsChowF))\n",
    "mcols(ddsChowF) = DataFrame(mcols(ddsChowF), featureData)"
   ]
  },
  {
   "cell_type": "code",
   "execution_count": 18,
   "metadata": {},
   "outputs": [
    {
     "name": "stderr",
     "output_type": "stream",
     "text": [
      "converting counts to integer mode\n",
      "\n",
      "Warning message in DESeqDataSet(se, design = design, ignoreRank):\n",
      "“some variables in design formula are characters, converting to factors”\n"
     ]
    }
   ],
   "source": [
    "conditionM = c(rep(\"control\",9), rep(\"treated\",3))\n",
    "metaData=data.frame(id, conditionM)\n",
    "ddsChowM <- DESeqDataSetFromMatrix(countData=datChow,\n",
    "                                   colData=metaData,\n",
    "                                   design=~conditionM\n",
    ")\n",
    "featureData = data.frame(gene=rownames(ddsChowM))\n",
    "mcols(ddsChowM) = DataFrame(mcols(ddsChowM), featureData)"
   ]
  },
  {
   "cell_type": "code",
   "execution_count": 19,
   "metadata": {},
   "outputs": [
    {
     "name": "stderr",
     "output_type": "stream",
     "text": [
      "converting counts to integer mode\n",
      "\n",
      "Warning message in DESeqDataSet(se, design = design, ignoreRank):\n",
      "“some variables in design formula are characters, converting to factors”\n"
     ]
    }
   ],
   "source": [
    "id = colnames(datHFD)\n",
    "conditionF = c(rep(\"control\",3), rep(\"treated\",3), rep(\"control\",6))\n",
    "metaData = data.frame(id, conditionF)\n",
    "ddsHFDf <- DESeqDataSetFromMatrix(countData=datHFD, \n",
    "                                  colData=metaData,\n",
    "                                  design=~conditionF\n",
    ")\n",
    "featureData = data.frame(gene=rownames(ddsHFDf))\n",
    "mcols(ddsHFDf) = DataFrame(mcols(ddsHFDf), featureData)"
   ]
  },
  {
   "cell_type": "code",
   "execution_count": 20,
   "metadata": {},
   "outputs": [
    {
     "name": "stderr",
     "output_type": "stream",
     "text": [
      "converting counts to integer mode\n",
      "\n",
      "Warning message in DESeqDataSet(se, design = design, ignoreRank):\n",
      "“some variables in design formula are characters, converting to factors”\n"
     ]
    }
   ],
   "source": [
    "conditionM = c(rep(\"control\",9),rep(\"treated\",3))\n",
    "metaData = data.frame(id, conditionM)\n",
    "ddsHFDm <- DESeqDataSetFromMatrix(countData=datHFD,\n",
    "                                  colData=metaData,\n",
    "                                  design=~ conditionM\n",
    ")\n",
    "featureData = data.frame(gene=rownames(ddsHFDm))\n",
    "mcols(ddsHFDm) = DataFrame(mcols(ddsHFDm), featureData)"
   ]
  },
  {
   "cell_type": "markdown",
   "metadata": {},
   "source": [
    "### Information of the mice"
   ]
  },
  {
   "cell_type": "code",
   "execution_count": 21,
   "metadata": {},
   "outputs": [],
   "source": [
    "Blood_Gluc = c(5.4,4.8,6.3,5.9,5.9,6,6.4,7.3,7.2,6.3,7.9,7.5,8.7,7.8,8.3,8,6.7,7.9,9.9,10.2,8.4,8.7,9.1,11.1)\n",
    "GTT_Area = c(5530,7395,5407,1365,4777,2205,9406,6992,4189,7642,3873,3876,8155,8360,6635,7810,9520,11995,25506,\n",
    "             23516,16596,21348,11362,24590)\n",
    "BW_Gain = c(1.3,0.2,1.8,2.2,7.2,5.5,10.6,17.7,10.1,9.6,16.1,14.6,9.3,12.2,9.3,9.9,10.3,10.3,20.4,16.2,12.7,\n",
    "            18.4,14.4,19)\n",
    "BP_Insulin = c(35.5,253.9,254.5,111.7,79.8,62.9,40.9,182.0,79.2,79.6,226.3,182.8,472.6,640.8,733.3,899.9,529.1,\n",
    "               381.7,2120.3,1314.9,1149,2072.2,920.3,1338.5)\n",
    "Estradiol = c(32.9,8,8,21.4,35.1,16.7,8,8,11.1,8,8,18.5,rep(0,12))\n",
    "Estrone = c(9.9,6,6,6.3,11.7,6,6,6,6,6,6,6,rep(0,12))"
   ]
  },
  {
   "cell_type": "code",
   "execution_count": 22,
   "metadata": {},
   "outputs": [],
   "source": [
    "info = rbind(Blood_Gluc, GTT_Area, BW_Gain, BP_Insulin, Estradiol, Estrone)\n",
    "colnames(info) = colnames(dat)\n",
    "#female = info[,1:12]\n",
    "#male = info[,13:24]\n",
    "info = info[,c(12,1,8,5,6,9,3,11,7,10,22,23,24,14,19,15,20,21,2,4,16,18,13,17)]"
   ]
  },
  {
   "cell_type": "code",
   "execution_count": 23,
   "metadata": {},
   "outputs": [],
   "source": [
    "#pheatmap(info, \n",
    "#         scale=\"row\", \n",
    "#         cluster_rows = FALSE,\n",
    "#         cluster_cols = FALSE,\n",
    "#         col = colors,\n",
    "#         cellheight = 20,\n",
    "#         cellwidth =20,legend=F,\n",
    "#         show_rownames = FALSE, \n",
    "#         show_colnames = FALSE\n",
    "#)"
   ]
  },
  {
   "cell_type": "markdown",
   "metadata": {},
   "source": [
    "# Chow data: treatment effect on Female"
   ]
  },
  {
   "cell_type": "code",
   "execution_count": 24,
   "metadata": {},
   "outputs": [
    {
     "name": "stderr",
     "output_type": "stream",
     "text": [
      "gene-wise dispersion estimates\n",
      "\n",
      "mean-dispersion relationship\n",
      "\n",
      "final dispersion estimates\n",
      "\n"
     ]
    }
   ],
   "source": [
    "design(ddsChowF) = ~conditionF  \n",
    "ddsChowF <- estimateSizeFactors(ddsChowF)\n",
    "ddsChowF <-  estimateDispersions(ddsChowF, \n",
    "                                 fit='parametric'\n",
    ")"
   ]
  },
  {
   "cell_type": "code",
   "execution_count": 25,
   "metadata": {},
   "outputs": [
    {
     "name": "stderr",
     "output_type": "stream",
     "text": [
      "using pre-existing size factors\n",
      "\n",
      "estimating dispersions\n",
      "\n",
      "found already estimated dispersions, replacing these\n",
      "\n",
      "gene-wise dispersion estimates\n",
      "\n",
      "mean-dispersion relationship\n",
      "\n",
      "final dispersion estimates\n",
      "\n",
      "fitting model and testing\n",
      "\n",
      "-- replacing outliers and refitting for 1 genes\n",
      "-- DESeq argument 'minReplicatesForReplace' = 7 \n",
      "-- original counts are preserved in counts(dds)\n",
      "\n",
      "estimating dispersions\n",
      "\n",
      "fitting model and testing\n",
      "\n"
     ]
    }
   ],
   "source": [
    "ddsChowF <- DESeq(ddsChowF)\n",
    "res_chow_fem_trt_vs_control <- results(ddsChowF)"
   ]
  },
  {
   "cell_type": "code",
   "execution_count": 26,
   "metadata": {},
   "outputs": [
    {
     "data": {
      "text/plain": [
       "\n",
       "FALSE  TRUE \n",
       "12998   480 "
      ]
     },
     "metadata": {},
     "output_type": "display_data"
    }
   ],
   "source": [
    "table(res_chow_fem_trt_vs_control$padj < 0.05)"
   ]
  },
  {
   "cell_type": "code",
   "execution_count": 27,
   "metadata": {},
   "outputs": [],
   "source": [
    "# order results table by the smallest adjusted p value:\n",
    "res = res_chow_fem_trt_vs_control[order(res_chow_fem_trt_vs_control$padj, res_chow_fem_trt_vs_control$pvalue),]\n",
    "\n",
    "results = as.data.frame(dplyr::mutate(as.data.frame(res), \n",
    "                                      sig=ifelse(res$padj<0.05, \"FDR<0.05\", \"Not Sig\")),\n",
    "                                      row.names=rownames(res))\n",
    "results = results[(!is.na(results$padj)),]"
   ]
  },
  {
   "cell_type": "code",
   "execution_count": 28,
   "metadata": {},
   "outputs": [],
   "source": [
    "setwd('/Users/viktorian.miok/Documents/consultation/ChunXia/Resequencing/results')"
   ]
  },
  {
   "cell_type": "code",
   "execution_count": 29,
   "metadata": {},
   "outputs": [],
   "source": [
    "#write.csv(results,\"Treatment_Effect_Female_Chow.csv\")"
   ]
  },
  {
   "cell_type": "code",
   "execution_count": 32,
   "metadata": {
    "scrolled": false
   },
   "outputs": [],
   "source": [
    "if(bool_plot){\n",
    "    p = ggplot2::ggplot(results, ggplot2::aes(log2FoldChange, -log10(pvalue))) +\n",
    "        ggplot2::geom_point(ggplot2::aes(col=sig)) +\n",
    "        ggplot2::scale_color_manual(values=c(\"red\", \"black\")) +\n",
    "        ggplot2::ggtitle(\"Chow_Female: Treatment vs. Control\")#\n",
    "\n",
    "    p + ggrepel::geom_text_repel(data=results[1:25, ], ggplot2::aes(label=rownames(results[1:25, ])))\n",
    "}"
   ]
  },
  {
   "cell_type": "code",
   "execution_count": 34,
   "metadata": {},
   "outputs": [],
   "source": [
    "chow_fem_trt_vs_control_up = rownames(res_chow_fem_trt_vs_control[which(res_chow_fem_trt_vs_control[,6] < 0.05 &\n",
    "                                                                      res_chow_fem_trt_vs_control[,2] >= 0),]\n",
    ")\n",
    "chow_fem_trt_vs_control_down = rownames(res_chow_fem_trt_vs_control[which(res_chow_fem_trt_vs_control[,6] < 0.05 &\n",
    "                                                                        res_chow_fem_trt_vs_control[,2] < 0),])"
   ]
  },
  {
   "cell_type": "code",
   "execution_count": 35,
   "metadata": {},
   "outputs": [
    {
     "data": {
      "text/html": [
       "163"
      ],
      "text/latex": [
       "163"
      ],
      "text/markdown": [
       "163"
      ],
      "text/plain": [
       "[1] 163"
      ]
     },
     "metadata": {},
     "output_type": "display_data"
    },
    {
     "data": {
      "text/html": [
       "317"
      ],
      "text/latex": [
       "317"
      ],
      "text/markdown": [
       "317"
      ],
      "text/plain": [
       "[1] 317"
      ]
     },
     "metadata": {},
     "output_type": "display_data"
    }
   ],
   "source": [
    "length(chow_fem_trt_vs_control_up)\n",
    "length(chow_fem_trt_vs_control_down)"
   ]
  },
  {
   "cell_type": "code",
   "execution_count": 36,
   "metadata": {},
   "outputs": [],
   "source": [
    "if(bool_plot){\n",
    "    vst.data_chowF <- varianceStabilizingTransformation(ddsChowF,\n",
    "                                                        blind=TRUE, \n",
    "                                                        fitType=\"parametric\"\n",
    "    )\n",
    "    colors = colorRampPalette( rev(brewer.pal(9, \"Spectral\")) )(255)\n",
    "\n",
    "    p = assay(vst.data_chowF)\n",
    "    diet = rbind(p[rownames(p)%in%chow_fem_trt_vs_control_up,],p[rownames(p)%in%chow_fem_trt_vs_control_down,])\n",
    "    heatmap.2(diet,\n",
    "              col=colors,\n",
    "              scale=\"row\",\n",
    "              trace=\"none\",\n",
    "              main=\"Chow_Female: Treatment vs. Control\",\n",
    "              Rowv=FALSE,\n",
    "              Colv=FALSE\n",
    "    ) \n",
    "}"
   ]
  },
  {
   "cell_type": "code",
   "execution_count": 37,
   "metadata": {},
   "outputs": [
    {
     "name": "stderr",
     "output_type": "stream",
     "text": [
      "'select()' returned 1:1 mapping between keys and columns\n",
      "\n",
      "Warning message in bitr(rownames(res_chow_fem_trt_vs_control), fromType = \"SYMBOL\", :\n",
      "“3.15% of input gene IDs are fail to map...”\n",
      "Reading KEGG annotation online:\n",
      "\n",
      "\n"
     ]
    }
   ],
   "source": [
    "sig.gene <- bitr(rownames(res_chow_fem_trt_vs_control),\n",
    "                 fromType=\"SYMBOL\",\n",
    "                 toType=\"ENTREZID\",\n",
    "                 OrgDb=org.Mm.eg.db\n",
    ")\n",
    "kk1 <- enrichKEGG(gene=sig.gene[,2], \n",
    "                  organism='mmu', \n",
    "                  pvalueCutoff=0.05\n",
    ")\n",
    "#barplot(kk1, showCategory=20, title=\"KEGG pathways\")"
   ]
  },
  {
   "cell_type": "markdown",
   "metadata": {},
   "source": [
    "### GO Pathways"
   ]
  },
  {
   "cell_type": "code",
   "execution_count": null,
   "metadata": {},
   "outputs": [],
   "source": [
    "ego1 <- enrichGO(gene=sig.gene[,2], \n",
    "                 OrgDb=org.Mm.eg.db,\n",
    "                 ont=\"BP\",\n",
    "                 pAdjustMethod=\"BH\",\n",
    "                 pvalueCutoff=0.01,\n",
    "                 readable=TRUE\n",
    ")\n",
    "#barplot(ego1, showCategory=20, title=\"GO pathways\")"
   ]
  },
  {
   "cell_type": "code",
   "execution_count": 38,
   "metadata": {},
   "outputs": [],
   "source": [
    "ego1Path = data.frame(ego1@result$Description,\n",
    "                      ego1@result$p.adjust,\n",
    "                      ego1@result$geneID,\n",
    "                      ego1@result$Count\n",
    ")"
   ]
  },
  {
   "cell_type": "code",
   "execution_count": 40,
   "metadata": {},
   "outputs": [],
   "source": [
    "ego1Path = ego1Path[which(ego1Path[,2] < 0.05),]"
   ]
  },
  {
   "cell_type": "code",
   "execution_count": 44,
   "metadata": {},
   "outputs": [],
   "source": [
    "colnames(ego1Path) = c(\"PathwayName\", \"Pathway_AdjP-val\", \"GeneNanme\", \"GeneCount\")"
   ]
  },
  {
   "cell_type": "code",
   "execution_count": 47,
   "metadata": {},
   "outputs": [],
   "source": [
    "#write.csv(ego1Path, \"GO_Signif_Pathways-Treatment_Effect_Female_Chow.csv\")"
   ]
  },
  {
   "cell_type": "code",
   "execution_count": 46,
   "metadata": {},
   "outputs": [],
   "source": [
    "df_total = data.frame(ego1@result$Description[1:20],\n",
    "                      ego1@result$p.adjust[1:20],\n",
    "                      ego1@result$Count[1:20]\n",
    ")\n",
    "colnames(df_total) = c(\"pathway\", \"padjPath\", \"count\")"
   ]
  },
  {
   "cell_type": "code",
   "execution_count": 38,
   "metadata": {},
   "outputs": [],
   "source": [
    "if(bool_plot){\n",
    "    ggplot(df_total, aes(pathway, count)) +\n",
    "           geom_bar(stat=\"identity\", aes(fill=padjPath), position=position_stack(reverse=TRUE)) + \n",
    "           coord_flip() +\n",
    "           scale_color_gradient(low=\"red\", high=\"yellow\") +\n",
    "           theme(axis.title=element_text(size=12,face=\"bold\"),title=element_text(size=12,face=\"bold\")) +\n",
    "           ylab(\"Nr. of Genes in Pathway\") + \n",
    "           ggtitle(\"GO Significant Pathways\") +\n",
    "           ylim(0,500)\n",
    "}"
   ]
  },
  {
   "cell_type": "code",
   "execution_count": 41,
   "metadata": {},
   "outputs": [],
   "source": [
    "df_total = data.frame()\n",
    "for(i in 1:20){\n",
    "    p = as.data.frame(res_chow_fem_trt_vs_control[which(rownames(res_chow_fem_trt_vs_control)%in%unlist(strsplit(ego1@result$geneID[i],\"/\"))),c(2,6)])\n",
    "    p$pathway = ego1@result$Description[i]\n",
    "    p$padjPath = ego1@result$p.adjust[i]\n",
    "    p$count = ego1@result$Count[i]\n",
    "    df_total = rbind(df_total,p)\n",
    "}\n",
    "df_total[is.na(df_total[,2]),2] = 0.05"
   ]
  },
  {
   "cell_type": "code",
   "execution_count": 42,
   "metadata": {},
   "outputs": [],
   "source": [
    "if(bool_plot){\n",
    "    ggplot(df_total, aes(log2FoldChange, pathway)) + \n",
    "           scale_color_gradient(low=\"red\", high=\"yellow\") +\n",
    "           geom_point(aes(color=-log10(padj))) + \n",
    "           geom_vline(xintercept=0) +\n",
    "           theme(axis.title=element_text(size=12,face=\"bold\"),title=element_text(size=12,face=\"bold\")) +\n",
    "           ylab(\"Pathway Names\") +\n",
    "           ggtitle(\"Significant Genes\")\n",
    "}"
   ]
  },
  {
   "cell_type": "code",
   "execution_count": 43,
   "metadata": {},
   "outputs": [],
   "source": [
    "df_total = data.frame(ego2@result$Description[ego2@result$Description%in%ego1@result$Description[1:20]],\n",
    "                      ego2@result$p.adjust[ego2@result$Description%in%ego1@result$Description[1:20]],\n",
    "                      ego2@result$Count[ego2@result$Description%in%ego1@result$Description[1:20]])\n",
    "\n",
    "colnames(df_total) = c(\"pathway\", \"padjPath\", \"count\")"
   ]
  },
  {
   "cell_type": "code",
   "execution_count": null,
   "metadata": {},
   "outputs": [],
   "source": [
    "if(bool_plot){\n",
    "    ggplot(df_total, aes(pathway, count))+ \n",
    "           geom_bar(stat=\"identity\", aes(fill=padjPath), position=position_stack(reverse=TRUE)) +\n",
    "           coord_flip() +\n",
    "           scale_color_gradient(low=\"red\", high=\"yellow\")+\n",
    "           theme(axis.title=element_text(size=12,face=\"bold\"), title=element_text(size=12,face=\"bold\")) +\n",
    "           ylab(\"Nr. of Genes in Pathway\") + \n",
    "           ggtitle(\"GO Significant Pathways\") +\n",
    "           ylim(0, 500)\n",
    "}"
   ]
  },
  {
   "cell_type": "code",
   "execution_count": null,
   "metadata": {},
   "outputs": [],
   "source": [
    "df_total = data.frame()\n",
    "for(i in 1:20){\n",
    "    p = as.data.frame(res_chow_fem_trt_vs_control[which(rownames(res_chow_fem_trt_vs_control)%in%unlist(strsplit(ego2@result$geneID[ego2@result$Description%in%ego1@result$Description[1:20]][i],\"/\"))),c(2,6)])\n",
    "    p$pathway = ego2@result$Description[ego2@result$Description%in%ego1@result$Description[1:20]][i]\n",
    "    p$padjPath = ego2@result$p.adjust[ego2@result$Description%in%ego1@result$Description[1:20]][i]\n",
    "    p$count = ego2@result$Count[ego2@result$Description%in%ego1@result$Description[1:20]][i]\n",
    "    df_total = rbind(df_total,p)\n",
    "}\n",
    "df_total[is.na(df_total[,2]),2] = 0.05"
   ]
  },
  {
   "cell_type": "code",
   "execution_count": null,
   "metadata": {},
   "outputs": [],
   "source": [
    "if(bool_plot){\n",
    "    ggplot(df_total, aes(log2FoldChange, pathway)) +\n",
    "           scale_color_gradient(low=\"red\", high=\"yellow\") +\n",
    "           geom_point(aes(color=-log10(padj)))+ geom_vline(xintercept=0) +\n",
    "           theme(axis.title=element_text(size=12,face=\"bold\"),title=element_text(size=12,face=\"bold\")) +\n",
    "           ylab(\"Pathway Names\") +\n",
    "           ggtitle(\"Significant Genes\") +\n",
    "           xlim(-3.5,2)\n",
    "}"
   ]
  },
  {
   "cell_type": "markdown",
   "metadata": {},
   "source": [
    "### KEGG Pathways"
   ]
  },
  {
   "cell_type": "code",
   "execution_count": 48,
   "metadata": {},
   "outputs": [],
   "source": [
    "df_total = data.frame(kk1@result$Description[1:20],\n",
    "                      kk1@result$p.adjust[1:20], \n",
    "                      kk1@result$Count[1:20]\n",
    ")\n",
    "\n",
    "colnames(df_total) = c(\"pathway\", \"padjPath\", \"count\")"
   ]
  },
  {
   "cell_type": "code",
   "execution_count": 44,
   "metadata": {},
   "outputs": [],
   "source": [
    "if(bool_plot){\n",
    "    ggplot(df_total, aes(pathway, count)) +\n",
    "    geom_bar(stat=\"identity\", aes(fill=padjPath), position = position_stack(reverse=TRUE)) +\n",
    "    coord_flip() +\n",
    "    scale_color_gradient(low=\"red\", high=\"yellow\")+\n",
    "    theme(axis.title=element_text(size=12,face=\"bold\"), title=element_text(size=12,face=\"bold\"))+\n",
    "    ylab(\"Nr. of Genes in Pathway\") +\n",
    "    ggtitle(\"KEGG Significant Pathways\") +\n",
    "    ylim(0,310)\n",
    "}"
   ]
  },
  {
   "cell_type": "code",
   "execution_count": 67,
   "metadata": {},
   "outputs": [],
   "source": [
    "kk1Path = data.frame()\n",
    "for(i in 1:317){\n",
    "    kk1Path[i,1] = kk1@result$Description[i]\n",
    "    kk1Path[i,2] = kk1@result$p.adjust[i]\n",
    "    kk1Path[i,3] = paste(rownames(res_chow_fem_trt_vs_control[which(rownames(res_chow_fem_trt_vs_control)%in%\n",
    "                     sig.gene[sig.gene[,2]%in%unlist(strsplit(kk1@result$geneID[i],\"/\")),1]), c(2,6)]), collapse='/')\n",
    "    kk1Path[i,4] = kk1@result$Count[i]\n",
    "}\n"
   ]
  },
  {
   "cell_type": "code",
   "execution_count": 69,
   "metadata": {},
   "outputs": [],
   "source": [
    "kk1Path = kk1Path[which(kk1Path[,2] < 0.05),]"
   ]
  },
  {
   "cell_type": "code",
   "execution_count": 70,
   "metadata": {},
   "outputs": [],
   "source": [
    "colnames(kk1Path) <- c(\"PathwayName\", \"Pathway_AdjP-val\", \"GeneNanme\", \"GeneCount\")"
   ]
  },
  {
   "cell_type": "code",
   "execution_count": 72,
   "metadata": {},
   "outputs": [],
   "source": [
    "#write.csv(kk1Path,\"KEGG_Signif_Pathways-Treatment_Effect_Female_Chow.csv\")"
   ]
  },
  {
   "cell_type": "code",
   "execution_count": 50,
   "metadata": {},
   "outputs": [],
   "source": [
    "df_total = data.frame()\n",
    "for(i in 1:20){\n",
    "    p = as.data.frame(res_chow_fem_trt_vs_control[which(rownames(res_chow_fem_trt_vs_control)%in%\n",
    "                                     sig.gene[sig.gene[,2]%in%unlist(strsplit(kk1@result$geneID[i],\"/\")),1]),c(2,6)])\n",
    "    p$pathway = kk1@result$Description[i]\n",
    "    p$padjPath = kk1@result$p.adjust[i]\n",
    "    p$count = kk1@result$Count[i]\n",
    "    df_total = rbind(df_total,p)\n",
    "}\n",
    "df_total[is.na(df_total[,2]),2] = 0.05"
   ]
  },
  {
   "cell_type": "code",
   "execution_count": null,
   "metadata": {},
   "outputs": [],
   "source": [
    "if(bool_plot){\n",
    "    ggplot(df_total, aes(log2FoldChange, pathway)) +\n",
    "           scale_color_gradient(low=\"red\", high=\"yellow\") +\n",
    "           geom_point(aes(color=-log10(padj)))+ \n",
    "           geom_vline(xintercept=0) +\n",
    "           theme(axis.title=element_text(size=12,face=\"bold\"), title=element_text(size=12,face=\"bold\")) +\n",
    "           ylab(\"Pathway Names\") +\n",
    "           ggtitle(\"Significant Genes\")\n",
    "}"
   ]
  },
  {
   "cell_type": "code",
   "execution_count": null,
   "metadata": {},
   "outputs": [],
   "source": [
    "df_total = data.frame(kk2@result$Description[kk2@result$Description%in%kk1@result$Description[1:20]],\n",
    "                      kk2@result$p.adjust[kk2@result$Description%in%kk1@result$Description[1:20]],\n",
    "                      kk2@result$Count[kk2@result$Description%in%kk1@result$Description[1:20]])\n",
    "\n",
    "colnames(df_total) = c(\"pathway\", \"padjPath\", \"count\")"
   ]
  },
  {
   "cell_type": "code",
   "execution_count": null,
   "metadata": {},
   "outputs": [],
   "source": [
    "if(bool_plot){\n",
    "    ggplot(df_total, aes(pathway, count))+ \n",
    "           geom_bar(stat=\"identity\", aes(fill=padjPath), position=position_stack(reverse=TRUE)) + \n",
    "           coord_flip() +\n",
    "           scale_color_gradient(low=\"red\", high=\"yellow\")+\n",
    "           theme(axis.title=element_text(size=12,face=\"bold\"), title=element_text(size=12,face=\"bold\"))+\n",
    "           ylab(\"Nr. of Genes in Pathway\")+\n",
    "           ggtitle(\"KEGG Significant Pathways\")+\n",
    "           ylim(0, 310)\n",
    "}"
   ]
  },
  {
   "cell_type": "code",
   "execution_count": null,
   "metadata": {},
   "outputs": [],
   "source": [
    "df_total = data.frame()\n",
    "for(i in 1:20){\n",
    "    p = as.data.frame(res_chow_fem_trt_vs_control[which(rownames(res_chow_fem_trt_vs_control)%in%\n",
    "                      sig.gene[sig.gene[,2]%in%unlist(strsplit(kk2@result$geneID[kk2@result$Description%in%\n",
    "                      kk1@result$Description[1:20][i]], \"/\")), 1]), c(2,6)])\n",
    "                                                                                                \n",
    "    p$pathway = kk2@result$Description[kk2@result$Description%in%kk1@result$Description[1:20]][i]\n",
    "    p$padjPath = kk2@result$p.adjust[kk2@result$Description%in%kk1@result$Description[1:20]][i]\n",
    "    p$count = kk2@result$Count[kk2@result$Description%in%kk1@result$Description[1:20]][i]\n",
    "    df_total = rbind(df_total,p)\n",
    "}\n",
    "df_total[is.na(df_total[,2]),2] = 0.05"
   ]
  },
  {
   "cell_type": "code",
   "execution_count": null,
   "metadata": {},
   "outputs": [],
   "source": [
    "if(bool_plot){\n",
    "    ggplot(df_total, aes(log2FoldChange, pathway)) + \n",
    "           scale_color_gradient(low=\"red\", high=\"yellow\") +\n",
    "           geom_point(aes(color=-log10(padj))) +\n",
    "           geom_vline(xintercept=0) +\n",
    "           theme(axis.title=element_text(size=12,face=\"bold\"), title=element_text(size=12,face=\"bold\")) +\n",
    "           ylab(\"Pathway Names\") + \n",
    "           ggtitle(\"Significant Genes\") +\n",
    "           xlim(-2,2)\n",
    "} "
   ]
  },
  {
   "cell_type": "markdown",
   "metadata": {},
   "source": [
    "### HFD Data: tretament effect on Female"
   ]
  },
  {
   "cell_type": "code",
   "execution_count": 36,
   "metadata": {},
   "outputs": [
    {
     "name": "stderr",
     "output_type": "stream",
     "text": [
      "gene-wise dispersion estimates\n",
      "\n",
      "mean-dispersion relationship\n",
      "\n",
      "final dispersion estimates\n",
      "\n"
     ]
    }
   ],
   "source": [
    "design(ddsHFDf) = ~ conditionF  \n",
    "ddsHFDf = estimateSizeFactors(ddsHFDf)\n",
    "ddsHFDf <- estimateDispersions(ddsHFDf,\n",
    "                               fit='parametric'\n",
    ")"
   ]
  },
  {
   "cell_type": "code",
   "execution_count": 37,
   "metadata": {},
   "outputs": [
    {
     "name": "stderr",
     "output_type": "stream",
     "text": [
      "using pre-existing size factors\n",
      "\n",
      "estimating dispersions\n",
      "\n",
      "found already estimated dispersions, replacing these\n",
      "\n",
      "gene-wise dispersion estimates\n",
      "\n",
      "mean-dispersion relationship\n",
      "\n",
      "final dispersion estimates\n",
      "\n",
      "fitting model and testing\n",
      "\n"
     ]
    }
   ],
   "source": [
    "ddsHFDf <- DESeq(ddsHFDf)\n",
    "res_hfd_fem_trt_vs_control <- results(ddsHFDf)"
   ]
  },
  {
   "cell_type": "code",
   "execution_count": 38,
   "metadata": {},
   "outputs": [
    {
     "data": {
      "text/plain": [
       "\n",
       "FALSE  TRUE \n",
       "11926     6 "
      ]
     },
     "metadata": {},
     "output_type": "display_data"
    }
   ],
   "source": [
    "table(res_hfd_fem_trt_vs_control$padj < 0.05)"
   ]
  },
  {
   "cell_type": "code",
   "execution_count": 39,
   "metadata": {},
   "outputs": [],
   "source": [
    "# order results table by the smallest adjusted p value:\n",
    "res = res_hfd_fem_trt_vs_control[order(res_hfd_fem_trt_vs_control$padj,res_hfd_fem_trt_vs_control$pvalue),]\n",
    "\n",
    "results = as.data.frame(dplyr::mutate(as.data.frame(res), \n",
    "                                      sig=ifelse(res$padj < 0.05, \"FDR<0.05\", \"Not Sig\")),\n",
    "                        row.names=rownames(res)\n",
    ")\n",
    "results = results[(!is.na(results$padj)),]"
   ]
  },
  {
   "cell_type": "code",
   "execution_count": 40,
   "metadata": {},
   "outputs": [],
   "source": [
    "#write.csv(results,\"Treatment_Effect_Female_HFD.csv\")"
   ]
  },
  {
   "cell_type": "code",
   "execution_count": 45,
   "metadata": {
    "scrolled": false
   },
   "outputs": [],
   "source": [
    "if(bool_plot){\n",
    "    p = ggplot2::ggplot(results, ggplot2::aes(log2FoldChange, -log10(pvalue))) +\n",
    "        ggplot2::geom_point(ggplot2::aes(col=sig)) +\n",
    "        ggplot2::scale_color_manual(values=c(\"red\", \"black\")) +\n",
    "        ggplot2::ggtitle(\"HFD_Female: Treatment vs. Control\")#\n",
    "\n",
    "    p + ggrepel::geom_text_repel(data=results[1:6, ], ggplot2::aes(label=rownames(results[1:6, ])))\n",
    "}"
   ]
  },
  {
   "cell_type": "code",
   "execution_count": 42,
   "metadata": {},
   "outputs": [],
   "source": [
    "hfd_fem_trt_vs_control=rownames(res_hfd_fem_trt_vs_control[which(res_hfd_fem_trt_vs_control[,6] < 0.05),]) # 0.035"
   ]
  },
  {
   "cell_type": "code",
   "execution_count": 46,
   "metadata": {},
   "outputs": [],
   "source": [
    "if(bool_plot){\n",
    "    vst.data_hfdf <- varianceStabilizingTransformation(ddsHFDf, \n",
    "                                                       blind=TRUE,\n",
    "                                                       fitType=\"parametric\"\n",
    "    )\n",
    "    p = assay(vst.data_hfdf)\n",
    "    diet = p[rownames(p)%in%hfd_fem_trt_vs_control,]\n",
    "    heatmap.2(diet,\n",
    "              col=colors,\n",
    "              scale=\"row\",\n",
    "              trace=\"none\",\n",
    "              main=\"HFD_Female: Treatment vs. Control\",\n",
    "              Rowv=FALSE,\n",
    "              Colv=FALSE) \n",
    "}"
   ]
  },
  {
   "cell_type": "markdown",
   "metadata": {},
   "source": [
    "### Chow data: treatment effect on Male"
   ]
  },
  {
   "cell_type": "code",
   "execution_count": 44,
   "metadata": {},
   "outputs": [
    {
     "name": "stderr",
     "output_type": "stream",
     "text": [
      "gene-wise dispersion estimates\n",
      "\n",
      "mean-dispersion relationship\n",
      "\n",
      "final dispersion estimates\n",
      "\n"
     ]
    }
   ],
   "source": [
    "design(ddsChowM) = ~ conditionM  \n",
    "ddsChowM = estimateSizeFactors(ddsChowM)\n",
    "ddsChowM <- estimateDispersions(ddsChowM, \n",
    "                                fit='parametric'\n",
    ")"
   ]
  },
  {
   "cell_type": "code",
   "execution_count": 45,
   "metadata": {},
   "outputs": [
    {
     "name": "stderr",
     "output_type": "stream",
     "text": [
      "using pre-existing size factors\n",
      "\n",
      "estimating dispersions\n",
      "\n",
      "found already estimated dispersions, replacing these\n",
      "\n",
      "gene-wise dispersion estimates\n",
      "\n",
      "mean-dispersion relationship\n",
      "\n",
      "final dispersion estimates\n",
      "\n",
      "fitting model and testing\n",
      "\n",
      "-- replacing outliers and refitting for 1 genes\n",
      "-- DESeq argument 'minReplicatesForReplace' = 7 \n",
      "-- original counts are preserved in counts(dds)\n",
      "\n",
      "estimating dispersions\n",
      "\n",
      "fitting model and testing\n",
      "\n"
     ]
    }
   ],
   "source": [
    "ddsChowM <- DESeq(ddsChowM)\n",
    "res_chow_mal_trt_vs_control <- results(ddsChowM)"
   ]
  },
  {
   "cell_type": "code",
   "execution_count": 46,
   "metadata": {},
   "outputs": [
    {
     "data": {
      "text/plain": [
       "\n",
       "FALSE  TRUE \n",
       "13409  1925 "
      ]
     },
     "metadata": {},
     "output_type": "display_data"
    }
   ],
   "source": [
    "table(res_chow_mal_trt_vs_control$padj < 0.05)"
   ]
  },
  {
   "cell_type": "code",
   "execution_count": 47,
   "metadata": {},
   "outputs": [],
   "source": [
    "# order results table by the smallest adjusted p value:\n",
    "res <- res_chow_mal_trt_vs_control[order(res_chow_mal_trt_vs_control$padj, res_chow_mal_trt_vs_control$pvalue),]\n",
    "\n",
    "results = as.data.frame(dplyr::mutate(as.data.frame(res),\n",
    "                                      sig=ifelse(res$padj < 0.05, \"FDR<0.05\", \"Not Sig\")),\n",
    "                        row.names=rownames(res))\n",
    "results = results[(!is.na(results$padj)),]"
   ]
  },
  {
   "cell_type": "code",
   "execution_count": 48,
   "metadata": {},
   "outputs": [],
   "source": [
    "#write.csv(results,\"Treatment_Effect_Male_Chow.csv\")"
   ]
  },
  {
   "cell_type": "code",
   "execution_count": 47,
   "metadata": {
    "scrolled": false
   },
   "outputs": [],
   "source": [
    "if(bool_plot){\n",
    "    p = ggplot2::ggplot(results, ggplot2::aes(log2FoldChange, -log10(pvalue))) +\n",
    "        ggplot2::geom_point(ggplot2::aes(col=sig)) +\n",
    "        ggplot2::scale_color_manual(values=c(\"red\", \"black\")) +\n",
    "        ggplot2::ggtitle(\"Chow_Male: Treatment vs. Control\")#\n",
    "\n",
    "    p + ggrepel::geom_text_repel(data=results[1:25, ], ggplot2::aes(label=rownames(results[1:25, ])))\n",
    "}"
   ]
  },
  {
   "cell_type": "code",
   "execution_count": 50,
   "metadata": {},
   "outputs": [],
   "source": [
    "chow_mal_trt_vs_control_up = rownames(res_chow_mal_trt_vs_control[which(res_chow_mal_trt_vs_control[,6] < 0.05 &\n",
    "                                                                        res_chow_mal_trt_vs_control[,2] >= 0),]) \n",
    "chow_mal_trt_vs_control_down = rownames(res_chow_mal_trt_vs_control[which(res_chow_mal_trt_vs_control[,6] < 0.05 &\n",
    "                                                                          res_chow_mal_trt_vs_control[,2] <0),]) "
   ]
  },
  {
   "cell_type": "code",
   "execution_count": 51,
   "metadata": {},
   "outputs": [
    {
     "data": {
      "text/html": [
       "542"
      ],
      "text/latex": [
       "542"
      ],
      "text/markdown": [
       "542"
      ],
      "text/plain": [
       "[1] 542"
      ]
     },
     "metadata": {},
     "output_type": "display_data"
    },
    {
     "data": {
      "text/html": [
       "1383"
      ],
      "text/latex": [
       "1383"
      ],
      "text/markdown": [
       "1383"
      ],
      "text/plain": [
       "[1] 1383"
      ]
     },
     "metadata": {},
     "output_type": "display_data"
    }
   ],
   "source": [
    "length(chow_mal_trt_vs_control_up)\n",
    "length(chow_mal_trt_vs_control_down)"
   ]
  },
  {
   "cell_type": "code",
   "execution_count": 48,
   "metadata": {},
   "outputs": [],
   "source": [
    "if(bool_plot){\n",
    "    vst.data_chowM <- varianceStabilizingTransformation(ddsChowM,\n",
    "                                                        blind=TRUE,\n",
    "                                                        fitType=\"parametric\"\n",
    "    )\n",
    "    colors = colorRampPalette(rev(brewer.pal(9, \"Spectral\")))(255)\n",
    "\n",
    "    p = assay(vst.data_chowM)\n",
    "    diet = rbind(p[rownames(p)%in%chow_mal_trt_vs_control_up,],p[rownames(p)%in%chow_mal_trt_vs_control_down,])\n",
    "    heatmap.2(diet,\n",
    "              col=colors,\n",
    "              scale=\"row\",\n",
    "              trace=\"none\",\n",
    "              main=\"Chow_Male: Treatment vs. Control\",\n",
    "              Rowv=FALSE,\n",
    "              Colv=FALSE\n",
    "    ) \n",
    "}"
   ]
  },
  {
   "cell_type": "code",
   "execution_count": 53,
   "metadata": {},
   "outputs": [
    {
     "name": "stderr",
     "output_type": "stream",
     "text": [
      "'select()' returned 1:1 mapping between keys and columns\n",
      "\n",
      "Warning message in bitr(c(chow_mal_trt_vs_control_up, chow_mal_trt_vs_control_down), :\n",
      "“2.08% of input gene IDs are fail to map...”\n"
     ]
    }
   ],
   "source": [
    "sig.gene <- bitr(c(chow_mal_trt_vs_control_up,chow_mal_trt_vs_control_down), \n",
    "                 fromType=\"SYMBOL\",\n",
    "                 toType=\"ENTREZID\",\n",
    "                 OrgDb=org.Mm.eg.db\n",
    ")\n",
    "kk2 <- enrichKEGG(gene=sig.gene[,2],\n",
    "                  organism='mmu',\n",
    "                  pvalueCutoff=0.05\n",
    ")\n",
    "#barplot(kk, showCategory=20, title=\"KEGG pathways\")"
   ]
  },
  {
   "cell_type": "code",
   "execution_count": 83,
   "metadata": {},
   "outputs": [],
   "source": [
    "ego2 <- enrichGO(gene=sig.gene[,2],\n",
    "                 OrgDb=org.Mm.eg.db, \n",
    "                 ont=\"BP\",\n",
    "                 pAdjustMethod=\"BH\",\n",
    "                 pvalueCutoff=0.01, \n",
    "                 readable=TRUE\n",
    ")\n",
    "#barplot(ego2, showCategory=15, title=\"GO pathways\")"
   ]
  },
  {
   "cell_type": "code",
   "execution_count": 84,
   "metadata": {},
   "outputs": [],
   "source": [
    "ego2Path = data.frame(ego2@result$Description,\n",
    "                      ego2@result$p.adjust,\n",
    "                      ego2@result$geneID,\n",
    "                      ego2@result$Count\n",
    ")"
   ]
  },
  {
   "cell_type": "code",
   "execution_count": 85,
   "metadata": {},
   "outputs": [],
   "source": [
    "ego2Path = ego2Path[which(ego2Path[,2] < 0.05),]"
   ]
  },
  {
   "cell_type": "code",
   "execution_count": 86,
   "metadata": {},
   "outputs": [],
   "source": [
    "colnames(ego2Path) = c(\"PathwayName\",\"Pathway_AdjP-val\",\"GeneNanme\",\"GeneCount\")"
   ]
  },
  {
   "cell_type": "code",
   "execution_count": 88,
   "metadata": {},
   "outputs": [],
   "source": [
    "#write.csv(ego2Path,\"GO_Signif_Pathways-Treatment_Effect_Male_Chow.csv\")"
   ]
  },
  {
   "cell_type": "code",
   "execution_count": 204,
   "metadata": {},
   "outputs": [],
   "source": [
    "df_total = data.frame(ego2@result$Description[1:20],\n",
    "                      ego2@result$p.adjust[1:20], \n",
    "                      ego2@result$Count[1:20]\n",
    ")\n",
    "colnames(df_total) = c(\"pathway\", \"padjPath\", \"count\")"
   ]
  },
  {
   "cell_type": "code",
   "execution_count": 49,
   "metadata": {},
   "outputs": [],
   "source": [
    "if(bool_plot){\n",
    "    ggplot(df_total, aes(pathway, count))+ \n",
    "           geom_bar(stat = \"identity\", aes(fill = padjPath), position = position_stack(reverse = TRUE)) + \n",
    "           coord_flip() +\n",
    "           scale_color_gradient(low=\"red\", high=\"yellow\")+\n",
    "           theme(axis.title=element_text(size=12,face=\"bold\"),title=element_text(size=12,face=\"bold\"))+\n",
    "           ylab(\"Nr. of Genes in Pathway\") + \n",
    "           ggtitle(\"GO Significant Pathways\")\n",
    "}"
   ]
  },
  {
   "cell_type": "code",
   "execution_count": 206,
   "metadata": {},
   "outputs": [],
   "source": [
    "df_total = data.frame()\n",
    "for(i in 1:20){\n",
    "    p=as.data.frame(res_chow_mal_trt_vs_control[which(rownames(res_chow_mal_trt_vs_control)%in%unlist(strsplit(ego2@result$geneID[i],\"/\"))),c(2,6)])\n",
    "    p$pathway=ego2@result$Description[i]\n",
    "    p$padjPath=ego2@result$p.adjust[i]\n",
    "    p$count=ego2@result$Count[i]\n",
    "    df_total=rbind(df_total,p)\n",
    "}\n",
    "df_total[is.na(df_total[,2]),2]=0.05"
   ]
  },
  {
   "cell_type": "code",
   "execution_count": 50,
   "metadata": {},
   "outputs": [],
   "source": [
    "if(bool_plot){\n",
    "    ggplot(df_total, aes(log2FoldChange, pathway)) + \n",
    "           scale_color_gradient(low=\"red\", high=\"yellow\") +\n",
    "           geom_point(aes(color=-log10(padj))) +\n",
    "           geom_vline(xintercept=0) +\n",
    "           theme(axis.title=element_text(size=12,face=\"bold\"), title=element_text(size=12,face=\"bold\"))+\n",
    "           ylab(\"Pathway Names\") + \n",
    "           ggtitle(\"Significant Genes\") + \n",
    "           xlim(-6,2)\n",
    "}"
   ]
  },
  {
   "cell_type": "code",
   "execution_count": 208,
   "metadata": {},
   "outputs": [],
   "source": [
    "df_total = data.frame(ego1@result$Description[ego1@result$Description%in%ego2@result$Description[1:20]],\n",
    "                       ego1@result$p.adjust[ego1@result$Description%in%ego2@result$Description[1:20]],\n",
    "                       ego1@result$Count[ego1@result$Description%in%ego2@result$Description[1:20]]\n",
    ")\n",
    "colnames(df_total) = c(\"pathway\", \"padjPath\", \"count\")"
   ]
  },
  {
   "cell_type": "code",
   "execution_count": 51,
   "metadata": {},
   "outputs": [],
   "source": [
    "if(bool_plot){\n",
    "    ggplot(df_total, aes(pathway, count))+ \n",
    "           geom_bar(stat=\"identity\", aes(fill=padjPath), position=position_stack(reverse=TRUE)) +\n",
    "           coord_flip() +\n",
    "           scale_color_gradient(low=\"red\", high=\"yellow\") +\n",
    "           theme(axis.title=element_text(size=12,face=\"bold\"), title=element_text(size=12,face=\"bold\")) +\n",
    "           ylab(\"Nr. of Genes in Pathway\") +\n",
    "           ggtitle(\"GO Significant Pathways\")\n",
    "}"
   ]
  },
  {
   "cell_type": "code",
   "execution_count": 210,
   "metadata": {},
   "outputs": [],
   "source": [
    "df_total=data.frame()\n",
    "for(i in 1:20){\n",
    "    p = as.data.frame(res_chow_mal_trt_vs_control[which(rownames(res_chow_mal_trt_vs_control)%in%\n",
    "        unlist(strsplit(ego2@result$geneID[ego2@result$Description%in%ego1@result$Description[1:20]][i],\"/\"))),c(2,6)])\n",
    "    p$pathway = ego2@result$Description[ego2@result$Description%in%ego1@result$Description[1:20]][i]\n",
    "    p$padjPath = ego2@result$p.adjust[ego2@result$Description%in%ego1@result$Description[1:20]][i]\n",
    "    p$count = ego2@result$Count[ego2@result$Description%in%ego1@result$Description[1:20]][i]\n",
    "    df_total = rbind(df_total, p)\n",
    "}\n",
    "df_total[is.na(df_total[,2]),2] = 0.05"
   ]
  },
  {
   "cell_type": "code",
   "execution_count": 52,
   "metadata": {},
   "outputs": [],
   "source": [
    "if(bool_plot){\n",
    "    ggplot(df_total, aes(log2FoldChange, pathway)) + \n",
    "           scale_color_gradient(low=\"red\", high=\"yellow\") +\n",
    "           geom_point(aes(color=-log10(padj))) + \n",
    "           geom_vline(xintercept=0) +\n",
    "           theme(axis.title=element_text(size=12,face=\"bold\"),title=element_text(size=12,face=\"bold\"))+\n",
    "           ylab(\"Pathway Names\") + \n",
    "           ggtitle(\"Significant Genes\") + \n",
    "           xlim(-6, 2)\n",
    "}"
   ]
  },
  {
   "cell_type": "markdown",
   "metadata": {},
   "source": [
    "### KEGG Enrichment"
   ]
  },
  {
   "cell_type": "code",
   "execution_count": 212,
   "metadata": {},
   "outputs": [],
   "source": [
    "df_total = data.frame(kk2@result$Description[1:20], kk2@result$p.adjust[1:20], kk2@result$Count[1:20])\n",
    "\n",
    "colnames(df_total) = c(\"pathway\",\"padjPath\",\"count\")"
   ]
  },
  {
   "cell_type": "code",
   "execution_count": 53,
   "metadata": {},
   "outputs": [],
   "source": [
    "if(bool_plot){\n",
    "    ggplot(df_total, aes(pathway, count)) +\n",
    "    geom_bar(stat=\"identity\", aes(fill=padjPath), position=position_stack(reverse=TRUE)) + \n",
    "    coord_flip() +\n",
    "    scale_color_gradient(low=\"red\", high=\"yellow\")+\n",
    "    theme(axis.title=element_text(size=12,face=\"bold\"), title=element_text(size=12,face=\"bold\"))+\n",
    "    ylab(\"Nr. of Genes in Pathway\") +\n",
    "    ggtitle(\"KEGG Significant Pathways\") + \n",
    "    ylim(0,60)\n",
    "}"
   ]
  },
  {
   "cell_type": "code",
   "execution_count": 54,
   "metadata": {},
   "outputs": [],
   "source": [
    "kk2Path = data.frame()\n",
    "for(i in 1:304){\n",
    "    kk2Path[i,1] = kk2@result$Description[i]\n",
    "    kk2Path[i,2] = kk2@result$p.adjust[i]\n",
    "    kk2Path[i,3] = paste(rownames(res_chow_mal_trt_vs_control[which(rownames(res_chow_mal_trt_vs_control)%in%\n",
    "                         sig.gene[sig.gene[,2]%in%unlist(strsplit(kk2@result$geneID[i],\"/\")),1]),c(2,6)]),collapse='/')\n",
    "    kk2Path[i,4] = kk2@result$Count[i]\n",
    "}"
   ]
  },
  {
   "cell_type": "code",
   "execution_count": 55,
   "metadata": {},
   "outputs": [],
   "source": [
    "kk2Path = kk2Path[which(kk2Path[,2] < 0.05),]"
   ]
  },
  {
   "cell_type": "code",
   "execution_count": 56,
   "metadata": {},
   "outputs": [],
   "source": [
    "colnames(kk2Path) = c(\"PathwayName\", \"Pathway_AdjP-val\", \"GeneNanme\", \"GeneCount\")"
   ]
  },
  {
   "cell_type": "code",
   "execution_count": 58,
   "metadata": {},
   "outputs": [],
   "source": [
    "#write.csv(kk2Path,\"KEGG_Signif_Pathways-Treatment_Effect_Male_Chow.csv\")"
   ]
  },
  {
   "cell_type": "code",
   "execution_count": 214,
   "metadata": {},
   "outputs": [],
   "source": [
    "df_total = data.frame()\n",
    "for(i in 1:20){\n",
    "    p = as.data.frame(res_chow_mal_trt_vs_control[which(rownames(res_chow_mal_trt_vs_control)%in%\n",
    "                                  sig.gene[sig.gene[,2]%in%unlist(strsplit(kk2@result$geneID[i],\"/\")),1]),c(2,6)])\n",
    "    p$pathway = kk2@result$Description[i]\n",
    "    p$padjPath = kk2@result$p.adjust[i]\n",
    "    p$count = kk2@result$Count[i]\n",
    "    df_total = rbind(df_total,p)\n",
    "}\n",
    "df_total[is.na(df_total[,2]),2] = 0.05"
   ]
  },
  {
   "cell_type": "code",
   "execution_count": 54,
   "metadata": {},
   "outputs": [],
   "source": [
    "if(bool_plot){\n",
    "    ggplot(df_total, aes(log2FoldChange, pathway)) +\n",
    "           scale_color_gradient(low=\"red\", high=\"yellow\") +\n",
    "           geom_point(aes(color=-log10(padj))) + \n",
    "           geom_vline(xintercept=0) +\n",
    "           theme(axis.title=element_text(size=12,face=\"bold\"), title=element_text(size=12,face=\"bold\")) +\n",
    "           ylab(\"Pathway Names\") + \n",
    "           ggtitle(\"Significant Genes\")\n",
    "}"
   ]
  },
  {
   "cell_type": "code",
   "execution_count": 216,
   "metadata": {},
   "outputs": [],
   "source": [
    "df_total = data.frame(kk1@result$Description[kk1@result$Description%in%kk2@result$Description[1:20]],\n",
    "                      kk1@result$p.adjust[kk1@result$Description%in%kk2@result$Description[1:20]],\n",
    "                      kk1@result$Count[kk1@result$Description%in%kk2@result$Description[1:20]])\n",
    "\n",
    "colnames(df_total) = c(\"pathway\", \"padjPath\", \"count\")"
   ]
  },
  {
   "cell_type": "code",
   "execution_count": 55,
   "metadata": {},
   "outputs": [],
   "source": [
    "if(bool_plot){\n",
    "    ggplot(df_total, aes(pathway, count)) +\n",
    "           geom_bar(stat=\"identity\", aes(fill=padjPath), position=position_stack(reverse=TRUE)) +\n",
    "           coord_flip() +\n",
    "           scale_color_gradient(low=\"red\", high=\"yellow\")+\n",
    "           theme(axis.title=element_text(size=12,face=\"bold\"), title=element_text(size=12,face=\"bold\"))+\n",
    "           ylab(\"Nr. of Genes in Pathway\") +\n",
    "           ggtitle(\"KEGG Significant Pathways\")+\n",
    "           ylim(0, 310)\n",
    "}"
   ]
  },
  {
   "cell_type": "code",
   "execution_count": 218,
   "metadata": {},
   "outputs": [],
   "source": [
    "df_total = data.frame()\n",
    "for(i in 1:20){\n",
    "    p = as.data.frame(res_chow_mal_trt_vs_control[which(rownames(res_chow_mal_trt_vs_control)%in%\n",
    "                               sig.gene[sig.gene[,2]%in%unlist(strsplit(kk1@result$geneID[kk1@result$Description%in%\n",
    "                                                         kk2@result$Description[1:20][i]],\"/\")), 1]), c(2,6)])\n",
    "                                                                                                \n",
    "    p$pathway = kk1@result$Description[kk1@result$Description%in%kk2@result$Description[1:20]][i]\n",
    "    p$padjPath = kk1@result$p.adjust[kk1@result$Description%in%kk2@result$Description[1:20]][i]\n",
    "    p$count = kk1@result$Count[kk1@result$Description%in%kk2@result$Description[1:20]][i]\n",
    "    df_total = rbind(df_total, p)\n",
    "}\n",
    "df_total[is.na(df_total[,2]),2] = 0.05"
   ]
  },
  {
   "cell_type": "code",
   "execution_count": 56,
   "metadata": {},
   "outputs": [],
   "source": [
    "if(bool_plot){\n",
    "    ggplot(df_total, aes(log2FoldChange, pathway)) +\n",
    "           scale_color_gradient(low=\"red\", high=\"yellow\") +\n",
    "           geom_point(aes(color=-log10(padj))) +\n",
    "           geom_vline(xintercept=0) +\n",
    "           theme(axis.title=element_text(size=12,face=\"bold\"), title=element_text(size=12,face=\"bold\"))+\n",
    "           ylab(\"Pathway Names\") + \n",
    "           ggtitle(\"Significant Genes\") +\n",
    "           xlim(-6,2)\n",
    "}"
   ]
  },
  {
   "cell_type": "markdown",
   "metadata": {},
   "source": [
    "### HFD Data: tretament effect on Male"
   ]
  },
  {
   "cell_type": "code",
   "execution_count": 59,
   "metadata": {},
   "outputs": [
    {
     "name": "stderr",
     "output_type": "stream",
     "text": [
      "gene-wise dispersion estimates\n",
      "\n",
      "mean-dispersion relationship\n",
      "\n",
      "final dispersion estimates\n",
      "\n"
     ]
    }
   ],
   "source": [
    "design(ddsHFDm) = ~ conditionM  \n",
    "ddsHFDm = estimateSizeFactors(ddsHFDm)\n",
    "ddsHFDm = estimateDispersions(ddsHFDm, \n",
    "                              fit='parametric'\n",
    ")"
   ]
  },
  {
   "cell_type": "code",
   "execution_count": 60,
   "metadata": {},
   "outputs": [
    {
     "name": "stderr",
     "output_type": "stream",
     "text": [
      "using pre-existing size factors\n",
      "\n",
      "estimating dispersions\n",
      "\n",
      "found already estimated dispersions, replacing these\n",
      "\n",
      "gene-wise dispersion estimates\n",
      "\n",
      "mean-dispersion relationship\n",
      "\n",
      "final dispersion estimates\n",
      "\n",
      "fitting model and testing\n",
      "\n",
      "-- replacing outliers and refitting for 2 genes\n",
      "-- DESeq argument 'minReplicatesForReplace' = 7 \n",
      "-- original counts are preserved in counts(dds)\n",
      "\n",
      "estimating dispersions\n",
      "\n",
      "fitting model and testing\n",
      "\n"
     ]
    }
   ],
   "source": [
    "ddsHFDm <- DESeq(ddsHFDm)\n",
    "res_hfd_mal_trt_vs_control <- results(ddsHFDm)"
   ]
  },
  {
   "cell_type": "code",
   "execution_count": 61,
   "metadata": {},
   "outputs": [
    {
     "data": {
      "text/plain": [
       "\n",
       "FALSE  TRUE \n",
       "11311  4641 "
      ]
     },
     "metadata": {},
     "output_type": "display_data"
    }
   ],
   "source": [
    "table(res_hfd_mal_trt_vs_control$padj < 0.05)"
   ]
  },
  {
   "cell_type": "code",
   "execution_count": 62,
   "metadata": {},
   "outputs": [],
   "source": [
    "# order results table by the smallest adjusted p value:\n",
    "res <- res_hfd_mal_trt_vs_control[order(res_hfd_mal_trt_vs_control$padj,res_hfd_mal_trt_vs_control$pvalue),]\n",
    "\n",
    "results = as.data.frame(dplyr::mutate(as.data.frame(res),\n",
    "                                      sig=ifelse(res$padj<0.05, \"FDR<0.05\", \"Not Sig\")),\n",
    "                        row.names=rownames(res))\n",
    "results = results[(!is.na(results$pvalue)),]"
   ]
  },
  {
   "cell_type": "code",
   "execution_count": 63,
   "metadata": {},
   "outputs": [],
   "source": [
    "#write.csv(results,\"Treatment_Effect_Male_HFD.csv\")"
   ]
  },
  {
   "cell_type": "code",
   "execution_count": 57,
   "metadata": {
    "scrolled": false
   },
   "outputs": [],
   "source": [
    "if(bool_plot){\n",
    "    p = ggplot2::ggplot(results, ggplot2::aes(log2FoldChange, -log10(pvalue))) +\n",
    "        ggplot2::geom_point(ggplot2::aes(col=sig)) +\n",
    "        ggplot2::scale_color_manual(values=c(\"red\", \"black\")) +\n",
    "        ggplot2::ggtitle(\"HFD_Male: Treatment vs. Control\")#\n",
    "\n",
    "    p + ggrepel::geom_text_repel(data=results[1:25, ], ggplot2::aes(label=rownames(results[1:25, ])))\n",
    "}"
   ]
  },
  {
   "cell_type": "code",
   "execution_count": 65,
   "metadata": {},
   "outputs": [],
   "source": [
    "hfd_mal_trt_vs_control_up=rownames(res_hfd_mal_trt_vs_control[which(res_hfd_mal_trt_vs_control[,6] < 0.05 &\n",
    "                                                                    res_hfd_mal_trt_vs_control[,2] >= 0),]) \n",
    "\n",
    "hfd_mal_trt_vs_control_down=rownames(res_hfd_mal_trt_vs_control[which(res_hfd_mal_trt_vs_control[,6] < 0.05 &\n",
    "                                                                      res_hfd_mal_trt_vs_control[,2] < 0),]) "
   ]
  },
  {
   "cell_type": "code",
   "execution_count": null,
   "metadata": {},
   "outputs": [],
   "source": [
    "vst.data_hfdM <- varianceStabilizingTransformation(ddsHFDm, \n",
    "                                                   blind=TRUE, \n",
    "                                                   fitType=\"parametric\"\n",
    ")\n",
    "p = assay(vst.data_hfdM)\n",
    "diet = rbind(p[rownames(p)%in%hfd_mal_trt_vs_control_up,],p[rownames(p)%in%hfd_mal_trt_vs_control_down,])\n",
    "heatmap.2(diet,\n",
    "          col=colors,\n",
    "          scale=\"row\",\n",
    "          trace=\"none\",\n",
    "          main=\"HFD_Male: Treatment vs. Control\",\n",
    "          Rowv=F,\n",
    "          Colv=F\n",
    ") "
   ]
  },
  {
   "cell_type": "code",
   "execution_count": 66,
   "metadata": {},
   "outputs": [
    {
     "name": "stderr",
     "output_type": "stream",
     "text": [
      "'select()' returned 1:many mapping between keys and columns\n",
      "\n",
      "Warning message in bitr(c(hfd_mal_trt_vs_control_up, hfd_mal_trt_vs_control_down), :\n",
      "“2.2% of input gene IDs are fail to map...”\n"
     ]
    }
   ],
   "source": [
    "sig.gene <- bitr(c(hfd_mal_trt_vs_control_up,hfd_mal_trt_vs_control_down), \n",
    "                 fromType=\"SYMBOL\",\n",
    "                 toType=\"ENTREZID\",\n",
    "                 OrgDb=org.Mm.eg.db\n",
    ")\n",
    "kk3 <- enrichKEGG(gene=sig.gene[,2],\n",
    "                  organism='mmu',\n",
    "                  pvalueCutoff=0.05\n",
    ")\n",
    "#barplot(kk, showCategory=20, title=\"KEGG pathways\")"
   ]
  },
  {
   "cell_type": "code",
   "execution_count": 103,
   "metadata": {},
   "outputs": [],
   "source": [
    "ego3 <- enrichGO(gene=sig.gene[,2],\n",
    "                 OrgDb=org.Mm.eg.db, \n",
    "                 ont=\"BP\",\n",
    "                 pAdjustMethod=\"BH\",\n",
    "                 pvalueCutoff=0.01,\n",
    "                 readable=TRUE\n",
    ")\n",
    "#barplot(ego3, showCategory=15, title=\"GO pathways\")"
   ]
  },
  {
   "cell_type": "code",
   "execution_count": 104,
   "metadata": {},
   "outputs": [],
   "source": [
    "ego3Path = data.frame(ego3@result$Description,\n",
    "                      ego3@result$p.adjust,\n",
    "                      ego3@result$geneID,\n",
    "                      ego3@result$Count\n",
    ")"
   ]
  },
  {
   "cell_type": "code",
   "execution_count": 105,
   "metadata": {},
   "outputs": [],
   "source": [
    "ego3Path = ego2Path[which(ego3Path[,2] < 0.05),]"
   ]
  },
  {
   "cell_type": "code",
   "execution_count": 106,
   "metadata": {},
   "outputs": [],
   "source": [
    "colnames(ego3Path)=c(\"PathwayName\", \"Pathway_AdjP-val\", \"GeneNanme\", \"GeneCount\")"
   ]
  },
  {
   "cell_type": "code",
   "execution_count": 109,
   "metadata": {},
   "outputs": [],
   "source": [
    "#write.csv(ego3Path,\"GO_Signif_Pathways-Treatment_Effect_Male_HFD.csv\")"
   ]
  },
  {
   "cell_type": "code",
   "execution_count": 228,
   "metadata": {},
   "outputs": [],
   "source": [
    "df_total = data.frame(ego3@result$Description[1:20], \n",
    "                      ego3@result$p.adjust[1:20], \n",
    "                      ego3@result$Count[1:20]\n",
    ")\n",
    "colnames(df_total) = c(\"pathway\",\"padjPath\",\"count\")"
   ]
  },
  {
   "cell_type": "code",
   "execution_count": 58,
   "metadata": {},
   "outputs": [],
   "source": [
    "if(bool_plot){\n",
    "    ggplot(df_total, aes(pathway, count))+ \n",
    "    geom_bar(stat=\"identity\", aes(fill=padjPath), position=position_stack(reverse=TRUE)) +\n",
    "    coord_flip() +\n",
    "    scale_color_gradient(low=\"red\", high=\"yellow\")+\n",
    "    theme(axis.title=element_text(size=12,face=\"bold\"),title=element_text(size=12,face=\"bold\"))+\n",
    "    ylab(\"Nr. of Genes in Pathway\") + \n",
    "    ggtitle(\"GO Significant Pathways\")\n",
    "}"
   ]
  },
  {
   "cell_type": "code",
   "execution_count": 230,
   "metadata": {},
   "outputs": [],
   "source": [
    "df_total = data.frame()\n",
    "for(i in 1:20){\n",
    "    p = as.data.frame(res_hfd_mal_trt_vs_control[which(rownames(res_hfd_mal_trt_vs_control)%in%\n",
    "                                                unlist(strsplit(ego3@result$geneID[i],\"/\"))), c(2,6)])\n",
    "    p$pathway = ego3@result$Description[i]\n",
    "    p$padjPath = ego3@result$p.adjust[i]\n",
    "    p$count = ego3@result$Count[i]\n",
    "    df_total = rbind(df_total,p)\n",
    "}\n",
    "df_total[is.na(df_total[,2]),2] = 0.05"
   ]
  },
  {
   "cell_type": "code",
   "execution_count": 59,
   "metadata": {},
   "outputs": [],
   "source": [
    "if(bool_plot){\n",
    "    ggplot(df_total, aes(log2FoldChange, pathway)) +\n",
    "           scale_color_gradient(low=\"red\", high=\"yellow\") +\n",
    "           geom_point(aes(color=-log10(padj))) +\n",
    "           geom_vline(xintercept=0)+\n",
    "           theme(axis.title=element_text(size=12,face=\"bold\"), title=element_text(size=12,face=\"bold\"))+\n",
    "           ylab(\"Pathway Names\") + \n",
    "           ggtitle(\"Significant Genes\")\n",
    "}"
   ]
  },
  {
   "cell_type": "markdown",
   "metadata": {},
   "source": [
    "### KEGG Enrichment"
   ]
  },
  {
   "cell_type": "code",
   "execution_count": 232,
   "metadata": {},
   "outputs": [],
   "source": [
    "df_total = data.frame(kk3@result$Description[1:20],\n",
    "                      kk3@result$p.adjust[1:20],\n",
    "                      kk3@result$Count[1:20]\n",
    ")\n",
    "colnames(df_total) = c(\"pathway\", \"padjPath\", \"count\")"
   ]
  },
  {
   "cell_type": "code",
   "execution_count": 60,
   "metadata": {},
   "outputs": [],
   "source": [
    "if(bool_plot){\n",
    "    ggplot(df_total, aes(pathway, count)) +\n",
    "    geom_bar(stat=\"identity\", aes(fill=padjPath), position=position_stack(reverse=TRUE)) +\n",
    "    coord_flip() +\n",
    "    scale_color_gradient(low=\"red\", high=\"yellow\")+\n",
    "    theme(axis.title=element_text(size=12,face=\"bold\"),title=element_text(size=12,face=\"bold\")) +\n",
    "    ylab(\"Nr. of Genes in Pathway\") +\n",
    "    ggtitle(\"KEGG Significant Pathways\")#+ylim(0,60)\n",
    "}"
   ]
  },
  {
   "cell_type": "code",
   "execution_count": 64,
   "metadata": {},
   "outputs": [],
   "source": [
    "kk3Path = data.frame()\n",
    "for(i in 1:304){\n",
    "    kk3Path[i,1] = kk3@result$Description[i]\n",
    "    kk3Path[i,2] = kk3@result$p.adjust[i]\n",
    "    kk3Path[i,3] = paste(rownames(res_hfd_mal_trt_vs_control[which(rownames(res_hfd_mal_trt_vs_control)%in%\n",
    "                         sig.gene[sig.gene[,2]%in%unlist(strsplit(kk3@result$geneID[i],\"/\")),1]),c(2,6)]),collapse='/')\n",
    "    kk3Path[i,4] = kk3@result$Count[i]\n",
    "}"
   ]
  },
  {
   "cell_type": "code",
   "execution_count": 72,
   "metadata": {},
   "outputs": [],
   "source": [
    "kk3Path=kk3Path[which(kk3Path[,2] < 0.05),]"
   ]
  },
  {
   "cell_type": "code",
   "execution_count": 73,
   "metadata": {},
   "outputs": [],
   "source": [
    "colnames(kk3Path) = c(\"PathwayName\",\"Pathway_AdjP-val\",\"GeneNanme\",\"GeneCount\")"
   ]
  },
  {
   "cell_type": "code",
   "execution_count": 75,
   "metadata": {},
   "outputs": [],
   "source": [
    "#write.csv(kk3Path,\"KEGG_Signif_Pathways-Treatment_Effect_Male_HFD.csv\")"
   ]
  },
  {
   "cell_type": "code",
   "execution_count": 234,
   "metadata": {},
   "outputs": [],
   "source": [
    "df_total = data.frame()\n",
    "for(i in 1:20){\n",
    "    p = as.data.frame(res_hfd_mal_trt_vs_control[which(rownames(res_hfd_mal_trt_vs_control)%in%\n",
    "                            sig.gene[sig.gene[,2]%in%unlist(strsplit(kk3@result$geneID[i],\"/\")),1]),c(2,6)])\n",
    "    p$pathway = kk3@result$Description[i]\n",
    "    p$padjPath = kk3@result$p.adjust[i]\n",
    "    p$count = kk3@result$Count[i]\n",
    "    df_total = rbind(df_total,p)\n",
    "}\n",
    "df_total[is.na(df_total[,2]),2] = 0.05"
   ]
  },
  {
   "cell_type": "code",
   "execution_count": 62,
   "metadata": {},
   "outputs": [],
   "source": [
    "if(bool_plot){\n",
    "    ggplot(df_total, aes(log2FoldChange, pathway)) +\n",
    "           scale_color_gradient(low=\"red\", high=\"yellow\") +\n",
    "           geom_point(aes(color=-log10(padj))) +\n",
    "           geom_vline(xintercept=0) +\n",
    "           theme(axis.title=element_text(size=12,face=\"bold\"), title=element_text(size=12,face=\"bold\"))+\n",
    "           ylab(\"Pathway Names\") + \n",
    "           ggtitle(\"Significant Genes\")\n",
    "}"
   ]
  },
  {
   "cell_type": "markdown",
   "metadata": {},
   "source": [
    "### Gene overlap"
   ]
  },
  {
   "cell_type": "code",
   "execution_count": 236,
   "metadata": {},
   "outputs": [],
   "source": [
    "Chow_Female = rownames(res_chow_fem_trt_vs_control[which(res_chow_fem_trt_vs_control[,6] < 0.05),])\n",
    "HFD_Female = rownames(res_hfd_fem_trt_vs_control[which(res_hfd_fem_trt_vs_control[,6] < 0.05),])\n",
    "Chow_Male = rownames(res_chow_mal_trt_vs_control[which(res_chow_mal_trt_vs_control[,6] < 0.05),])\n",
    "HFD_Male = rownames(res_hfd_mal_trt_vs_control[which(res_hfd_mal_trt_vs_control[,6] < 0.05),])"
   ]
  },
  {
   "cell_type": "code",
   "execution_count": 63,
   "metadata": {},
   "outputs": [],
   "source": [
    "if(bool_plot){\n",
    "    upset(fromList(list(Treatment_Effect_Chow_Female=Chow_Female,\n",
    "                        Treatment_Effect_HFD_Female=HFD_Female,\n",
    "                        Treatment_Effect_Chow_Male=Chow_Male,\n",
    "                        Treatment_Effect_HFD_Male=HFD_Male)),\n",
    "                        order.by='freq',\n",
    "                        sets=c(\"Treatment_Effect_Chow_Female\",\n",
    "                               \"Treatment_Effect_HFD_Female\",\n",
    "                               \"Treatment_Effect_Chow_Male\", \n",
    "                               \"Treatment_Effect_HFD_Male\")\n",
    "    )\n",
    "}"
   ]
  },
  {
   "cell_type": "code",
   "execution_count": null,
   "metadata": {},
   "outputs": [],
   "source": []
  },
  {
   "cell_type": "code",
   "execution_count": null,
   "metadata": {},
   "outputs": [],
   "source": []
  }
 ],
 "metadata": {
  "kernelspec": {
   "display_name": "R",
   "language": "R",
   "name": "ir"
  },
  "language_info": {
   "codemirror_mode": "r",
   "file_extension": ".r",
   "mimetype": "text/x-r-source",
   "name": "R",
   "pygments_lexer": "r",
   "version": "4.0.3"
  }
 },
 "nbformat": 4,
 "nbformat_minor": 2
}
